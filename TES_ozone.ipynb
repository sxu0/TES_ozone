{
  "nbformat": 4,
  "nbformat_minor": 0,
  "metadata": {
    "colab": {
      "name": "TES_ozone.ipynb",
      "provenance": [],
      "collapsed_sections": [],
      "mount_file_id": "1HSp_V6vnbb_u8ev0k74Mr-2-iYTaI60z",
      "authorship_tag": "ABX9TyOHrHXMWDCXE3Fpmh/JGUrY",
      "include_colab_link": true
    },
    "kernelspec": {
      "name": "python3",
      "display_name": "Python 3"
    },
    "language_info": {
      "name": "python"
    }
  },
  "cells": [
    {
      "cell_type": "markdown",
      "metadata": {
        "id": "view-in-github",
        "colab_type": "text"
      },
      "source": [
        "<a href=\"https://colab.research.google.com/github/sxu0/TES_ozone/blob/main/TES_ozone.ipynb\" target=\"_parent\"><img src=\"https://colab.research.google.com/assets/colab-badge.svg\" alt=\"Open In Colab\"/></a>"
      ]
    },
    {
      "cell_type": "code",
      "execution_count": 6,
      "metadata": {
        "id": "4QCtrMtc3Ykj"
      },
      "outputs": [],
      "source": [
        "from pathlib import Path\n",
        "\n",
        "import numpy as np\n",
        "import pandas as pd\n",
        "import netCDF4 as nc\n",
        "import matplotlib.pyplot as plt\n",
        "import scipy\n",
        "\n",
        "%load_ext google.colab.data_table"
      ]
    },
    {
      "cell_type": "markdown",
      "source": [
        "## Load Data"
      ],
      "metadata": {
        "id": "_9_RPcMO_2HX"
      }
    },
    {
      "cell_type": "code",
      "source": [
        "drive_root = (\n",
        "    Path.cwd() /\n",
        "    \"drive\" /\n",
        "    \"Othercomputers\" /\n",
        "    \"My Laptop\" /\n",
        "    \"EngSci_Winter_2022\" /\n",
        "    \"PHY408\" /\n",
        "    \"Final Project\"\n",
        ")\n",
        "data_paths = {}\n",
        "data_paths[\"inc\"] = drive_root / \"mon_o3_inc_all.nc\"\n",
        "data_paths[\"spr\"] = drive_root / \"mon_o3_spr_all.nc\""
      ],
      "metadata": {
        "id": "CRoFcP574zDy"
      },
      "execution_count": 7,
      "outputs": []
    },
    {
      "cell_type": "markdown",
      "source": [
        "Data Dimensions/Indices:\n",
        "* `lev`: pressure level (27 total)\n",
        "* `lat`: latitude (deg)\n",
        "* `lon`: longitude (deg)\n",
        "* `time`: month (1 through 156, spanning 13 years; not sure what month of 2005 is start)\n",
        "\n",
        "<img src=\"https://drive.google.com/uc?export=view&id=1rf3LNlQp94KBtZoFPVFnzYseM-1cZJCW\" width=800\\>\n"
      ],
      "metadata": {
        "id": "JkSrtzDlMQHr"
      }
    },
    {
      "cell_type": "code",
      "source": [
        "file = nc.Dataset(data_paths[\"inc\"])\n",
        "print(file)"
      ],
      "metadata": {
        "colab": {
          "base_uri": "https://localhost:8080/"
        },
        "id": "w4FfX80f7CY1",
        "outputId": "a03e48a9-fb13-4eab-c0b6-d869e8f307b2"
      },
      "execution_count": 8,
      "outputs": [
        {
          "output_type": "stream",
          "name": "stdout",
          "text": [
            "<class 'netCDF4._netCDF4.Dataset'>\n",
            "root group (NETCDF3_CLASSIC data model, file format NETCDF3):\n",
            "    dimensions(sizes): lon(320), lat(160), lev(27), time(156)\n",
            "    variables(dimensions): float64 lon(lon), float64 lat(lat), float64 lev(lev), float64 time(time), float32 o3(time, lev, lat, lon)\n",
            "    groups: \n"
          ]
        }
      ]
    },
    {
      "cell_type": "code",
      "source": [
        "lon = file.variables[\"lon\"]\n",
        "lat = file.variables[\"lat\"]\n",
        "lev = file.variables[\"lev\"]\n",
        "time = file.variables[\"time\"]\n",
        "\n",
        "o3_data = file.variables[\"o3\"]\n",
        "print(o3_data.shape)"
      ],
      "metadata": {
        "colab": {
          "base_uri": "https://localhost:8080/"
        },
        "id": "K1WbcSKs35vQ",
        "outputId": "57dd8562-d4ab-4c84-9048-07aca05305ed"
      },
      "execution_count": 5,
      "outputs": [
        {
          "output_type": "stream",
          "name": "stdout",
          "text": [
            "(156, 27, 160, 320)\n"
          ]
        }
      ]
    },
    {
      "cell_type": "code",
      "source": [
        "print(o3_data[:, 3, 150, 300])\n"
      ],
      "metadata": {
        "colab": {
          "base_uri": "https://localhost:8080/"
        },
        "id": "fflmoYVz5W0L",
        "outputId": "17e84039-4f96-4784-f4a2-019afd02f007"
      },
      "execution_count": 11,
      "outputs": [
        {
          "output_type": "stream",
          "name": "stdout",
          "text": [
            "[-- 0.0 0.0 0.0 0.0 -- -- -- -- 0.0 0.0 -- -- 0.0 0.0 0.0 0.0 -- -- -- --\n",
            " 0.0 -- -- -- 0.0 -- -- -- 0.0 -- -- -- 0.0 -- 0.0 -- 0.0 0.0 0.0 0.0 --\n",
            " 0.0 -- -- -- -- -- -- 0.0 -- -- 0.0 0.0 0.0 -- -- 0.0 -- 0.0 0.0 0.0 0.0\n",
            " -- 0.0 -- -- 0.0 0.0 0.0 0.0 0.0 0.0 -- -- -- 0.0 0.0 -- 0.0 -- -- -- --\n",
            " 0.0 -- -- 0.0 0.0 0.0 -- -- -- -- 0.0 -- 0.0 -- 0.0 0.0 -- -- -- -- -- --\n",
            " -- -- -- -- -- 0.0 0.0 -- -- -- -- 0.0 0.0 -- -- -- 0.0 0.0 -- -- 0.0 0.0\n",
            " -- -- -- -- 0.0 -- -- 0.0 -- -- -- -- -- 0.0 0.0 -- -- -- -- -- 0.0 -- --\n",
            " -- -- -- 0.0 0.0]\n"
          ]
        }
      ]
    },
    {
      "cell_type": "markdown",
      "source": [
        "# New Section"
      ],
      "metadata": {
        "id": "R27gDnF13egH"
      }
    },
    {
      "cell_type": "markdown",
      "source": [
        "Sources:\n",
        "\n",
        "https://tes.jpl.nasa.gov/tes/chemical-reanalysis (courtesy of Prof Jones)\n",
        "\n",
        "https://acp.copernicus.org/articles/15/8315/2015/acp-15-8315-2015.pdf"
      ],
      "metadata": {
        "id": "Dnt5erDk-nwc"
      }
    }
  ]
}